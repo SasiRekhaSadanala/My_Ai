{
  "nbformat": 4,
  "nbformat_minor": 0,
  "metadata": {
    "colab": {
      "provenance": [],
      "gpuType": "T4"
    },
    "kernelspec": {
      "name": "python3",
      "display_name": "Python 3"
    },
    "language_info": {
      "name": "python"
    },
    "accelerator": "GPU"
  },
  "cells": [
    {
      "cell_type": "markdown",
      "source": [
        "# Pytorch WOrkflow"
      ],
      "metadata": {
        "id": "xa9VKiZE0qfe"
      }
    },
    {
      "cell_type": "code",
      "execution_count": null,
      "metadata": {
        "colab": {
          "base_uri": "https://localhost:8080/",
          "height": 35
        },
        "id": "wDhmbff10iXx",
        "outputId": "8939e9bf-709b-417e-b116-4a7b667d1e32"
      },
      "outputs": [
        {
          "output_type": "execute_result",
          "data": {
            "text/plain": [
              "'2.6.0+cu124'"
            ],
            "application/vnd.google.colaboratory.intrinsic+json": {
              "type": "string"
            }
          },
          "metadata": {},
          "execution_count": 232
        }
      ],
      "source": [
        "import torch\n",
        "from torch import nn  ## nn contains all of Pytorch's building blocks for nn\n",
        "import matplotlib.pyplot as plt\n",
        "from torch.utils.data import Dataset, random_split\n",
        "\n",
        "torch.__version__"
      ]
    },
    {
      "cell_type": "markdown",
      "source": [
        "# Data (Preparing and loading)"
      ],
      "metadata": {
        "id": "kUckoRpm1z4j"
      }
    },
    {
      "cell_type": "code",
      "source": [
        "torch.manual_seed(33)"
      ],
      "metadata": {
        "colab": {
          "base_uri": "https://localhost:8080/"
        },
        "id": "xIN9gH3CxqmL",
        "outputId": "7c428ddd-bd3c-46f1-d026-7adedfdb4c55"
      },
      "execution_count": null,
      "outputs": [
        {
          "output_type": "execute_result",
          "data": {
            "text/plain": [
              "<torch._C.Generator at 0x789e1f7b12f0>"
            ]
          },
          "metadata": {},
          "execution_count": 233
        }
      ]
    },
    {
      "cell_type": "code",
      "source": [
        "weight=0.7\n",
        "bias=0.8\n",
        "start,end,step=0,5,0.02\n",
        "X=torch.arange(start,end,step).unsqueeze(dim=1)\n",
        "y=weight*X+bias\n",
        "X[:10],y[:10], len(X)"
      ],
      "metadata": {
        "colab": {
          "base_uri": "https://localhost:8080/"
        },
        "id": "Xe0mp9bs1qGD",
        "outputId": "89cb7165-bce2-48d2-900b-54bd20e5916d"
      },
      "execution_count": null,
      "outputs": [
        {
          "output_type": "execute_result",
          "data": {
            "text/plain": [
              "(tensor([[0.0000],\n",
              "         [0.0200],\n",
              "         [0.0400],\n",
              "         [0.0600],\n",
              "         [0.0800],\n",
              "         [0.1000],\n",
              "         [0.1200],\n",
              "         [0.1400],\n",
              "         [0.1600],\n",
              "         [0.1800]]),\n",
              " tensor([[0.8000],\n",
              "         [0.8140],\n",
              "         [0.8280],\n",
              "         [0.8420],\n",
              "         [0.8560],\n",
              "         [0.8700],\n",
              "         [0.8840],\n",
              "         [0.8980],\n",
              "         [0.9120],\n",
              "         [0.9260]]),\n",
              " 250)"
            ]
          },
          "metadata": {},
          "execution_count": 234
        }
      ]
    },
    {
      "cell_type": "markdown",
      "source": [
        "# Plotting"
      ],
      "metadata": {
        "id": "jCCIRygQzxax"
      }
    },
    {
      "cell_type": "code",
      "source": [
        "train_ratio = 0.8\n",
        "num_samples = X.shape[0]\n",
        "num_train = int(num_samples * train_ratio)\n",
        "\n",
        "# Shuffle the indices first\n",
        "indices = torch.randperm(num_samples)\n",
        "\n",
        "# Split indices for train and test\n",
        "train_indices = indices[:num_train]\n",
        "test_indices = indices[num_train:]\n",
        "\n",
        "# Index your tensors to get train/test sets\n",
        "x_train, y_train = X[train_indices], y[train_indices]\n",
        "x_test, y_test = X[test_indices], y[test_indices]\n",
        "\n",
        "print(f\"Train size: {x_train.shape[0]}, Test size: {x_test.shape[0]}\")"
      ],
      "metadata": {
        "colab": {
          "base_uri": "https://localhost:8080/"
        },
        "id": "LlSxd1KGu6fE",
        "outputId": "e7143d11-4971-4e63-8f2a-e3071a5f77ca"
      },
      "execution_count": null,
      "outputs": [
        {
          "output_type": "stream",
          "name": "stdout",
          "text": [
            "Train size: 200, Test size: 50\n"
          ]
        }
      ]
    },
    {
      "cell_type": "code",
      "source": [
        "def plot_predictions(train_data=x_train ,\n",
        "                     train_labels=y_train,\n",
        "                     test_data=x_test,\n",
        "                     test_labels=y_test,\n",
        "                     predictions=None):\n",
        "  \"\"\"\n",
        "  Plots training data, test data and compares predictions.\n",
        "  \"\"\"\n",
        "  plt.figure(figsize=(10, 7))\n",
        "  plt.scatter(train_data, train_labels, c=\"b\", s=4, label=\"Training data\")\n",
        "  plt.scatter(test_data, test_labels, c=\"y\",marker='x', s=4, label=\"Testing_data\")\n",
        "  if predictions is not None:\n",
        "    plt.scatter(test_data, predictions, c=\"r\",marker='*', s=4, label=\"Predictions\")\n",
        "  plt.legend(prop={\"size\": 14})"
      ],
      "metadata": {
        "id": "hIolwA7Bz2vI"
      },
      "execution_count": null,
      "outputs": []
    },
    {
      "cell_type": "code",
      "source": [
        "plot_predictions()"
      ],
      "metadata": {
        "colab": {
          "base_uri": "https://localhost:8080/",
          "height": 460
        },
        "id": "TiQ9Uvsj1TX3",
        "outputId": "932bea5b-e580-4324-a3d5-4afc3a645e3c"
      },
      "execution_count": null,
      "outputs": [
        {
          "output_type": "display_data",
          "data": {
            "text/plain": [
              "<Figure size 1000x700 with 1 Axes>"
            ],
            "image/png": "[encoded data removed]"
          },
          "metadata": {}
        }
      ]
    },
    {
      "cell_type": "markdown",
      "source": [
        "# Build Model"
      ],
      "metadata": {
        "id": "koYXS-LvYb82"
      }
    },
    {
      "cell_type": "code",
      "source": [
        "from torch import nn\n",
        "\n",
        "class LinearRegressionModel(nn.Module):  # if u over write from nn module u should override the forward method to define what computation is happening\n",
        "    def __init__(self):\n",
        "        super().__init__()\n",
        "        self.weights=nn.Parameter(torch.randn(1,  # Start with a random wt and try to adjust it to the ideal wt\n",
        "                                              requires_grad=True, # Can this param be updated via grad desc\n",
        "                                              dtype=torch.float32)) # Pytorch loves the datatype float32\n",
        "        self.bias=nn.Parameter(torch.randn(1, requires_grad=True, dtype=torch.float32))\n",
        "\n",
        "    # Forward meth to define the computation in the model\n",
        "    def forward(self, x:torch.Tensor)->torch.Tensor: # \"x\" is input data\n",
        "        return self.weights*x+self.bias #This is the linear regression formula\n"
      ],
      "metadata": {
        "id": "kAg6HYzIX0Ur"
      },
      "execution_count": null,
      "outputs": []
    },
    {
      "cell_type": "markdown",
      "source": [
        "# Checking contents of our pytorch model\n",
        "\n",
        "\n",
        "\n",
        "we can check  our ,odel paras or what's inside our model using `.parameters`"
      ],
      "metadata": {
        "id": "VDNrJxzGnIHE"
      }
    },
    {
      "cell_type": "code",
      "source": [
        "model_0 = LinearRegressionModel()\n",
        "model_0"
      ],
      "metadata": {
        "colab": {
          "base_uri": "https://localhost:8080/"
        },
        "id": "kMJprHnPbSzx",
        "outputId": "f0849d5a-fb10-4a67-b40c-441a8cc133ad"
      },
      "execution_count": null,
      "outputs": [
        {
          "output_type": "execute_result",
          "data": {
            "text/plain": [
              "LinearRegressionModel()"
            ]
          },
          "metadata": {},
          "execution_count": 239
        }
      ]
    },
    {
      "cell_type": "code",
      "source": [
        "print(list(model_0.parameters()))\n",
        "print(dict(model_0.state_dict()))"
      ],
      "metadata": {
        "colab": {
          "base_uri": "https://localhost:8080/"
        },
        "id": "8a5VRy4sslV5",
        "outputId": "fc412047-2f2e-422a-de02-3ce0d8b2d59a"
      },
      "execution_count": null,
      "outputs": [
        {
          "output_type": "stream",
          "name": "stdout",
          "text": [
            "[Parameter containing:\n",
            "tensor([1.4477], requires_grad=True), Parameter containing:\n",
            "tensor([-0.5661], requires_grad=True)]\n",
            "{'weights': tensor([1.4477]), 'bias': tensor([-0.5661])}\n"
          ]
        }
      ]
    },
    {
      "cell_type": "markdown",
      "source": [
        "# Making pred usin `torch.interference_mode()`"
      ],
      "metadata": {
        "id": "2HDkPrDht0RQ"
      }
    },
    {
      "cell_type": "code",
      "source": [
        "with torch.inference_mode():\n",
        "    y_preds=model_0(x_test)\n",
        "y_preds[:10],y_test[:10]"
      ],
      "metadata": {
        "colab": {
          "base_uri": "https://localhost:8080/"
        },
        "id": "uLgd-1NSssop",
        "outputId": "a05ba7e4-8221-486c-bf26-2a6e8ceed2a6"
      },
      "execution_count": null,
      "outputs": [
        {
          "output_type": "execute_result",
          "data": {
            "text/plain": [
              "(tensor([[5.8037],\n",
              "         [0.5341],\n",
              "         [2.5320],\n",
              "         [0.8237],\n",
              "         [4.7035],\n",
              "         [1.0553],\n",
              "         [5.8617],\n",
              "         [6.0643],\n",
              "         [1.3159],\n",
              "         [3.2558]]),\n",
              " tensor([[3.8800],\n",
              "         [1.3320],\n",
              "         [2.2980],\n",
              "         [1.4720],\n",
              "         [3.3480],\n",
              "         [1.5840],\n",
              "         [3.9080],\n",
              "         [4.0060],\n",
              "         [1.7100],\n",
              "         [2.6480]]))"
            ]
          },
          "metadata": {},
          "execution_count": 241
        }
      ]
    },
    {
      "cell_type": "markdown",
      "source": [
        "You can also do\n",
        "\n",
        "* `y_preds=model_0(x_test)` -> this is with grad\n",
        "* `with torch.inference_mode():\n",
        "    y_preds=model_0(x_test)` -> without grad\n",
        "\n",
        "\n",
        "# But inference mode is prefered\n",
        "\n"
      ],
      "metadata": {
        "id": "A-h-InZny8Is"
      }
    },
    {
      "cell_type": "code",
      "source": [
        "plot_predictions(predictions=y_preds)"
      ],
      "metadata": {
        "colab": {
          "base_uri": "https://localhost:8080/",
          "height": 467
        },
        "id": "GxjzA-0XzViq",
        "outputId": "2dcbc424-61c8-49a6-ac57-eb4759ce9d33"
      },
      "execution_count": null,
      "outputs": [
        {
          "output_type": "display_data",
          "data": {
            "text/plain": [
              "<Figure size 1000x700 with 1 Axes>"
            ],
            "image/png": "[encoded data removed]"
          },
          "metadata": {}
        }
      ]
    },
    {
      "cell_type": "markdown",
      "source": [
        "# Train Model"
      ],
      "metadata": {
        "id": "hCDj8KWx2a1H"
      }
    },
    {
      "cell_type": "code",
      "source": [
        "print(list(model_0.parameters()))\n",
        "print(dict(model_0.state_dict()))"
      ],
      "metadata": {
        "id": "NvphX5ac2XFM",
        "colab": {
          "base_uri": "https://localhost:8080/"
        },
        "outputId": "d59368be-e1b1-4da0-b15b-1564d97658d9"
      },
      "execution_count": null,
      "outputs": [
        {
          "output_type": "stream",
          "name": "stdout",
          "text": [
            "[Parameter containing:\n",
            "tensor([1.4477], requires_grad=True), Parameter containing:\n",
            "tensor([-0.5661], requires_grad=True)]\n",
            "{'weights': tensor([1.4477]), 'bias': tensor([-0.5661])}\n"
          ]
        }
      ]
    },
    {
      "cell_type": "markdown",
      "source": [
        "Loss Fun and optimizer"
      ],
      "metadata": {
        "id": "N9uOdebzW0MD"
      }
    },
    {
      "cell_type": "code",
      "source": [
        "loss_fn = nn.MSELoss()\n",
        "# loss_fn= nn.L1Loss() # many more loss fun exits\n",
        "optimizer=torch.optim.SGD(params=model_0.parameters(), lr=0.01) # learning rate"
      ],
      "metadata": {
        "id": "VQ9MN6UR14nk"
      },
      "execution_count": null,
      "outputs": []
    },
    {
      "cell_type": "markdown",
      "source": [
        "Building a training and testing loop\n",
        "\n",
        "* Loop through data\n",
        "* Forwad pass or forward prop(data-> forward fun, make predictins)\n",
        "* Cal. loss\n",
        "* Loss backward(Back prop)\n",
        "* Optimizer( Gradient des)\n"
      ],
      "metadata": {
        "id": "GJjQXrrLZiix"
      }
    },
    {
      "cell_type": "code",
      "source": [
        "# An epoch is one loop through the data.\n",
        "epochs=300\n",
        "for epoch in range(epochs):\n",
        "    model_0.train()  # Train mode\n",
        "\n",
        "    y_pred=model_0(x_train)  # Forward prop\n",
        "    loss=loss_fn(y_pred,y_train)  # Cal loss\n",
        "\n",
        "    optimizer.zero_grad()  # Optimizer zero grad\n",
        "    loss.backward()  # Back Prop\n",
        "    optimizer.step()  # Grad desc\n",
        "\n",
        "    model_0.eval()  # Eval mode\n",
        "    with torch.inference_mode():\n",
        "        test_pred=model_0(x_test)\n",
        "        test_loss=loss_fn(test_pred,y_test)\n",
        "    if epoch%10==0:\n",
        "        print(f\"Epoch: {epoch} | Loss: {loss}\")\n",
        "        print(model_0.state_dict())"
      ],
      "metadata": {
        "colab": {
          "base_uri": "https://localhost:8080/"
        },
        "id": "RsMYLoZ3Z_TH",
        "outputId": "9a65e676-9dac-4a9c-911b-ab1c6a6a67e2"
      },
      "execution_count": null,
      "outputs": [
        {
          "output_type": "stream",
          "name": "stdout",
          "text": [
            "Epoch: 0 | Loss: 1.4112634658813477\n",
            "OrderedDict([('weights', tensor([1.3931])), ('bias', tensor([-0.5753]))])\n",
            "Epoch: 10 | Loss: 0.5271751880645752\n",
            "OrderedDict([('weights', tensor([1.1633])), ('bias', tensor([-0.5716]))])\n",
            "Epoch: 20 | Loss: 0.4634745717048645\n",
            "OrderedDict([('weights', tensor([1.1135])), ('bias', tensor([-0.5155]))])\n",
            "Epoch: 30 | Loss: 0.4204424023628235\n",
            "OrderedDict([('weights', tensor([1.0900])), ('bias', tensor([-0.4546]))])\n",
            "Epoch: 40 | Loss: 0.38167381286621094\n",
            "OrderedDict([('weights', tensor([1.0711])), ('bias', tensor([-0.3955]))])\n",
            "Epoch: 50 | Loss: 0.3464853763580322\n",
            "OrderedDict([('weights', tensor([1.0535])), ('bias', tensor([-0.3391]))])\n",
            "Epoch: 60 | Loss: 0.3145413100719452\n",
            "OrderedDict([('weights', tensor([1.0368])), ('bias', tensor([-0.2853]))])\n",
            "Epoch: 70 | Loss: 0.285542368888855\n",
            "OrderedDict([('weights', tensor([1.0209])), ('bias', tensor([-0.2341]))])\n",
            "Epoch: 80 | Loss: 0.2592168152332306\n",
            "OrderedDict([('weights', tensor([1.0057])), ('bias', tensor([-0.1853]))])\n",
            "Epoch: 90 | Loss: 0.23531843721866608\n",
            "OrderedDict([('weights', tensor([0.9913])), ('bias', tensor([-0.1388]))])\n",
            "Epoch: 100 | Loss: 0.21362340450286865\n",
            "OrderedDict([('weights', tensor([0.9775])), ('bias', tensor([-0.0944]))])\n",
            "Epoch: 110 | Loss: 0.19392843544483185\n",
            "OrderedDict([('weights', tensor([0.9644])), ('bias', tensor([-0.0522]))])\n",
            "Epoch: 120 | Loss: 0.17604929208755493\n",
            "OrderedDict([('weights', tensor([0.9520])), ('bias', tensor([-0.0120]))])\n",
            "Epoch: 130 | Loss: 0.15981847047805786\n",
            "OrderedDict([('weights', tensor([0.9401])), ('bias', tensor([0.0264]))])\n",
            "Epoch: 140 | Loss: 0.14508405327796936\n",
            "OrderedDict([('weights', tensor([0.9287])), ('bias', tensor([0.0629]))])\n",
            "Epoch: 150 | Loss: 0.13170813024044037\n",
            "OrderedDict([('weights', tensor([0.9179])), ('bias', tensor([0.0977]))])\n",
            "Epoch: 160 | Loss: 0.11956532299518585\n",
            "OrderedDict([('weights', tensor([0.9076])), ('bias', tensor([0.1308]))])\n",
            "Epoch: 170 | Loss: 0.10854203999042511\n",
            "OrderedDict([('weights', tensor([0.8978])), ('bias', tensor([0.1624]))])\n",
            "Epoch: 180 | Loss: 0.09853503853082657\n",
            "OrderedDict([('weights', tensor([0.8885])), ('bias', tensor([0.1925]))])\n",
            "Epoch: 190 | Loss: 0.0894506648182869\n",
            "OrderedDict([('weights', tensor([0.8796])), ('bias', tensor([0.2212]))])\n",
            "Epoch: 200 | Loss: 0.08120376616716385\n",
            "OrderedDict([('weights', tensor([0.8711])), ('bias', tensor([0.2485]))])\n",
            "Epoch: 210 | Loss: 0.07371720671653748\n",
            "OrderedDict([('weights', tensor([0.8630])), ('bias', tensor([0.2746]))])\n",
            "Epoch: 220 | Loss: 0.06692089885473251\n",
            "OrderedDict([('weights', tensor([0.8553])), ('bias', tensor([0.2994]))])\n",
            "Epoch: 230 | Loss: 0.060751136392354965\n",
            "OrderedDict([('weights', tensor([0.8480])), ('bias', tensor([0.3230]))])\n",
            "Epoch: 240 | Loss: 0.05515020713210106\n",
            "OrderedDict([('weights', tensor([0.8410])), ('bias', tensor([0.3455]))])\n",
            "Epoch: 250 | Loss: 0.050065647810697556\n",
            "OrderedDict([('weights', tensor([0.8344])), ('bias', tensor([0.3670]))])\n",
            "Epoch: 260 | Loss: 0.045449864119291306\n",
            "OrderedDict([('weights', tensor([0.8280])), ('bias', tensor([0.3874]))])\n",
            "Epoch: 270 | Loss: 0.04125962406396866\n",
            "OrderedDict([('weights', tensor([0.8220])), ('bias', tensor([0.4069]))])\n",
            "Epoch: 280 | Loss: 0.03745570406317711\n",
            "OrderedDict([('weights', tensor([0.8162])), ('bias', tensor([0.4255]))])\n",
            "Epoch: 290 | Loss: 0.034002479165792465\n",
            "OrderedDict([('weights', tensor([0.8107])), ('bias', tensor([0.4432]))])\n"
          ]
        }
      ]
    },
    {
      "cell_type": "code",
      "source": [
        "with torch.inference_mode():\n",
        "    y_preds=model_0(x_test)\n",
        "y_preds[:10],y_test[:10]"
      ],
      "metadata": {
        "colab": {
          "base_uri": "https://localhost:8080/"
        },
        "id": "7oSAu6IZYOcs",
        "outputId": "6c7be124-9355-41b9-875b-96733fe01615"
      },
      "execution_count": null,
      "outputs": [
        {
          "output_type": "execute_result",
          "data": {
            "text/plain": [
              "(tensor([[4.0048],\n",
              "         [1.0709],\n",
              "         [2.1832],\n",
              "         [1.2321],\n",
              "         [3.3922],\n",
              "         [1.3611],\n",
              "         [4.0370],\n",
              "         [4.1499],\n",
              "         [1.5062],\n",
              "         [2.5862]]),\n",
              " tensor([[3.8800],\n",
              "         [1.3320],\n",
              "         [2.2980],\n",
              "         [1.4720],\n",
              "         [3.3480],\n",
              "         [1.5840],\n",
              "         [3.9080],\n",
              "         [4.0060],\n",
              "         [1.7100],\n",
              "         [2.6480]]))"
            ]
          },
          "metadata": {},
          "execution_count": 246
        }
      ]
    },
    {
      "cell_type": "code",
      "source": [
        "plot_predictions(predictions=y_preds)"
      ],
      "metadata": {
        "colab": {
          "base_uri": "https://localhost:8080/",
          "height": 460
        },
        "id": "FJUl--sffTgc",
        "outputId": "cc478fa9-a937-4298-c3ea-a21f6ab5671c"
      },
      "execution_count": null,
      "outputs": [
        {
          "output_type": "display_data",
          "data": {
            "text/plain": [
              "<Figure size 1000x700 with 1 Axes>"
            ],
            "image/png": "[encoded data removed]"
          },
          "metadata": {}
        }
      ]
    },
    {
      "cell_type": "markdown",
      "source": [
        "1.  `torch.save()` : saves in pickle format\n",
        "2.   `torch.load()` : loading the saved model\n",
        "3.   `torch.nn.Module.load_state_dict()`: load model's saved state dict\n",
        "\n"
      ],
      "metadata": {
        "id": "6i-aizRd2bhk"
      }
    },
    {
      "cell_type": "code",
      "source": [
        "model_0.state_dict()"
      ],
      "metadata": {
        "colab": {
          "base_uri": "https://localhost:8080/"
        },
        "id": "m_5Rg4czs8zP",
        "outputId": "a6725ccf-dad2-4692-b42c-bde963d1cb32"
      },
      "execution_count": null,
      "outputs": [
        {
          "output_type": "execute_result",
          "data": {
            "text/plain": [
              "OrderedDict([('weights', tensor([0.8060])), ('bias', tensor([0.4584]))])"
            ]
          },
          "metadata": {},
          "execution_count": 248
        }
      ]
    },
    {
      "cell_type": "code",
      "source": [
        "from pathlib import Path\n",
        "\n",
        "# Create models directory\n",
        "model_path=Path(\"models\")\n",
        "model_path.mkdir(parents=True, exist_ok=True)\n",
        "\n",
        "# Create model save path\n",
        "model_name=\"01_pytorch_workflow_model_0.pth\"\n",
        "model_save_path=model_path/model_name\n",
        "model_save_path"
      ],
      "metadata": {
        "colab": {
          "base_uri": "https://localhost:8080/"
        },
        "id": "yVy9bnit3FF3",
        "outputId": "edec6b0b-46f5-40d3-c765-7898e2505fb8"
      },
      "execution_count": null,
      "outputs": [
        {
          "output_type": "execute_result",
          "data": {
            "text/plain": [
              "PosixPath('models/01_pytorch_workflow_model_0.pth')"
            ]
          },
          "metadata": {},
          "execution_count": 249
        }
      ]
    },
    {
      "cell_type": "code",
      "source": [
        "torch.save(obj=model_0.state_dict(), f=model_save_path)"
      ],
      "metadata": {
        "id": "5_jJhsLz3xhz"
      },
      "execution_count": null,
      "outputs": []
    },
    {
      "cell_type": "code",
      "source": [
        "!ls -l models"
      ],
      "metadata": {
        "colab": {
          "base_uri": "https://localhost:8080/"
        },
        "id": "yAMUZm0t4JGw",
        "outputId": "c600cd56-8a3e-4950-c8b2-b32cd4328ecf"
      },
      "execution_count": null,
      "outputs": [
        {
          "output_type": "stream",
          "name": "stdout",
          "text": [
            "total 8\n",
            "-rw-r--r-- 1 root root 1680 Jun 10 05:27 01_pytorch_workflow_model_0.pth\n",
            "-rw-r--r-- 1 root root 1590 Jun 10 05:26 linear_model.pth\n"
          ]
        }
      ]
    },
    {
      "cell_type": "markdown",
      "source": [
        "# Loading"
      ],
      "metadata": {
        "id": "SnWJsjjO5Bml"
      }
    },
    {
      "cell_type": "code",
      "source": [
        "model_0.state_dict()"
      ],
      "metadata": {
        "colab": {
          "base_uri": "https://localhost:8080/"
        },
        "id": "1CL69Kvk4UjO",
        "outputId": "9d577678-3841-4c4f-9cb3-0e6620fcb57c"
      },
      "execution_count": null,
      "outputs": [
        {
          "output_type": "execute_result",
          "data": {
            "text/plain": [
              "OrderedDict([('weights', tensor([0.8060])), ('bias', tensor([0.4584]))])"
            ]
          },
          "metadata": {},
          "execution_count": 252
        }
      ]
    },
    {
      "cell_type": "code",
      "source": [
        "loaded_model_0=LinearRegressionModel()\n",
        "loaded_model_0.load_state_dict(torch.load(model_save_path))\n",
        "loaded_model_0.state_dict()"
      ],
      "metadata": {
        "colab": {
          "base_uri": "https://localhost:8080/"
        },
        "id": "pzZX30Ru5Ffw",
        "outputId": "5cbd2e18-64d2-4888-ba3e-89bb9915be6b"
      },
      "execution_count": null,
      "outputs": [
        {
          "output_type": "execute_result",
          "data": {
            "text/plain": [
              "OrderedDict([('weights', tensor([0.8060])), ('bias', tensor([0.4584]))])"
            ]
          },
          "metadata": {},
          "execution_count": 253
        }
      ]
    },
    {
      "cell_type": "code",
      "source": [
        "with torch.inference_mode():\n",
        "    y_preds = model_0(x_test)\n",
        "    loaded_model_0_preds = loaded_model_0(x_test)\n",
        "y_preds== loaded_model_0_preds"
      ],
      "metadata": {
        "colab": {
          "base_uri": "https://localhost:8080/"
        },
        "id": "CvDzqvGjnXv_",
        "outputId": "35115cac-982c-45da-d377-112bbc51eceb"
      },
      "execution_count": null,
      "outputs": [
        {
          "output_type": "execute_result",
          "data": {
            "text/plain": [
              "tensor([[True],\n",
              "        [True],\n",
              "        [True],\n",
              "        [True],\n",
              "        [True],\n",
              "        [True],\n",
              "        [True],\n",
              "        [True],\n",
              "        [True],\n",
              "        [True],\n",
              "        [True],\n",
              "        [True],\n",
              "        [True],\n",
              "        [True],\n",
              "        [True],\n",
              "        [True],\n",
              "        [True],\n",
              "        [True],\n",
              "        [True],\n",
              "        [True],\n",
              "        [True],\n",
              "        [True],\n",
              "        [True],\n",
              "        [True],\n",
              "        [True],\n",
              "        [True],\n",
              "        [True],\n",
              "        [True],\n",
              "        [True],\n",
              "        [True],\n",
              "        [True],\n",
              "        [True],\n",
              "        [True],\n",
              "        [True],\n",
              "        [True],\n",
              "        [True],\n",
              "        [True],\n",
              "        [True],\n",
              "        [True],\n",
              "        [True],\n",
              "        [True],\n",
              "        [True],\n",
              "        [True],\n",
              "        [True],\n",
              "        [True],\n",
              "        [True],\n",
              "        [True],\n",
              "        [True],\n",
              "        [True],\n",
              "        [True]])"
            ]
          },
          "metadata": {},
          "execution_count": 254
        }
      ]
    },
    {
      "cell_type": "markdown",
      "source": [
        "# Putting all together"
      ],
      "metadata": {
        "id": "vKai8hHVpFM0"
      }
    },
    {
      "cell_type": "code",
      "source": [
        "import torch\n",
        "import matplotlib\n",
        "from torch import nn\n",
        "torch.__version__"
      ],
      "metadata": {
        "colab": {
          "base_uri": "https://localhost:8080/",
          "height": 35
        },
        "id": "yc03ShcNo4Yg",
        "outputId": "68abf192-ea75-427f-b4ac-1eec6e5d7d47"
      },
      "execution_count": null,
      "outputs": [
        {
          "output_type": "execute_result",
          "data": {
            "text/plain": [
              "'2.6.0+cu124'"
            ],
            "application/vnd.google.colaboratory.intrinsic+json": {
              "type": "string"
            }
          },
          "metadata": {},
          "execution_count": 255
        }
      ]
    },
    {
      "cell_type": "code",
      "source": [
        "device=\"cuda\" if torch.cuda.is_available() else \"cpu\"\n",
        "print(device)"
      ],
      "metadata": {
        "colab": {
          "base_uri": "https://localhost:8080/"
        },
        "id": "24HJAz8Jpjqt",
        "outputId": "fd880d2e-3231-49ef-c798-5305a41d1dfd"
      },
      "execution_count": null,
      "outputs": [
        {
          "output_type": "stream",
          "name": "stdout",
          "text": [
            "cpu\n"
          ]
        }
      ]
    },
    {
      "cell_type": "code",
      "source": [
        "Weight, Bias= 0.7,0.3\n",
        "start,end,step=3,5,0.02\n",
        "X=torch.arange(start,end,step).unsqueeze(dim=1)\n",
        "y=Weight*X+Bias\n",
        "len(X)"
      ],
      "metadata": {
        "colab": {
          "base_uri": "https://localhost:8080/"
        },
        "id": "3Xh-pWRJp0EH",
        "outputId": "92af560a-ab1b-4b75-b4f6-428b46b9f180"
      },
      "execution_count": null,
      "outputs": [
        {
          "output_type": "execute_result",
          "data": {
            "text/plain": [
              "100"
            ]
          },
          "metadata": {},
          "execution_count": 257
        }
      ]
    },
    {
      "cell_type": "code",
      "source": [
        "train_split=int(0.7*len(X))\n",
        "X_train,y_train,X_test,y_test=X[:train_split],y[:train_split],X[train_split:],y[train_split:]\n",
        "len(X_train)"
      ],
      "metadata": {
        "colab": {
          "base_uri": "https://localhost:8080/"
        },
        "id": "bM-IA1f1p0pF",
        "outputId": "ee42cd46-7d6f-43c9-a8a2-fc8023b2043a"
      },
      "execution_count": null,
      "outputs": [
        {
          "output_type": "execute_result",
          "data": {
            "text/plain": [
              "70"
            ]
          },
          "metadata": {},
          "execution_count": 258
        }
      ]
    },
    {
      "cell_type": "code",
      "source": [
        "plot_predictions(X_train,y_train,X_test,y_test)"
      ],
      "metadata": {
        "colab": {
          "base_uri": "https://localhost:8080/",
          "height": 460
        },
        "id": "ZP2VNJdup1I2",
        "outputId": "6c662b06-10e7-470d-f8cd-f3b96f9c9e7e"
      },
      "execution_count": null,
      "outputs": [
        {
          "output_type": "display_data",
          "data": {
            "text/plain": [
              "<Figure size 1000x700 with 1 Axes>"
            ],
            "image/png": "[encoded data removed]"
          },
          "metadata": {}
        }
      ]
    },
    {
      "cell_type": "code",
      "source": [
        "class linearmodel(nn.Module):           #self.weights=nn.Parameter(torch.randn(1,1,requires_grad=True,dtype=torch.float32))\n",
        "     def __init__(self):              #  self.bias=nn.Parameter(torch.randn(1,requires_grad=True,dtype=torch.float32))\n",
        "           super().__init__()         #  def forward(self,x):\n",
        "           self.linear_layer=nn.Linear(in_features=1,out_features=1)  #  return self.weights.x+bias\"\"\"\n",
        "     def forward(self,x):\n",
        "           return self.linear_layer(x)\n",
        "\n",
        "\n",
        "torch.manual_seed(42)\n",
        "model_1=linearmodel()\n",
        "model_1,model_1.state_dict()"
      ],
      "metadata": {
        "colab": {
          "base_uri": "https://localhost:8080/"
        },
        "id": "D-d2rN0BrKct",
        "outputId": "ad05172b-413e-46c3-db8b-d2673c975de2"
      },
      "execution_count": null,
      "outputs": [
        {
          "output_type": "execute_result",
          "data": {
            "text/plain": [
              "(linearmodel(\n",
              "   (linear_layer): Linear(in_features=1, out_features=1, bias=True)\n",
              " ),\n",
              " OrderedDict([('linear_layer.weight', tensor([[0.7645]])),\n",
              "              ('linear_layer.bias', tensor([0.8300]))]))"
            ]
          },
          "metadata": {},
          "execution_count": 260
        }
      ]
    },
    {
      "cell_type": "code",
      "source": [
        "next(model_1.parameters()).device"
      ],
      "metadata": {
        "colab": {
          "base_uri": "https://localhost:8080/"
        },
        "id": "SzkhCocRuA0m",
        "outputId": "35f922f6-1cac-4f3e-af1a-2f942e4590c8"
      },
      "execution_count": null,
      "outputs": [
        {
          "output_type": "execute_result",
          "data": {
            "text/plain": [
              "device(type='cpu')"
            ]
          },
          "metadata": {},
          "execution_count": 261
        }
      ]
    },
    {
      "cell_type": "code",
      "source": [
        "X_train=X_train.to(device)\n",
        "X_test=X_test.to(device)\n",
        "y_train=y_train.to(device)\n",
        "y_test=y_test.to(device)\n",
        "X=X.to(device)\n",
        "y=y.to(device)\n",
        "next(model_1.parameters()).device"
      ],
      "metadata": {
        "colab": {
          "base_uri": "https://localhost:8080/"
        },
        "id": "mvggw8bBwf6M",
        "outputId": "f6e67512-042b-4270-8962-49cc56147949"
      },
      "execution_count": null,
      "outputs": [
        {
          "output_type": "execute_result",
          "data": {
            "text/plain": [
              "device(type='cpu')"
            ]
          },
          "metadata": {},
          "execution_count": 262
        }
      ]
    },
    {
      "cell_type": "code",
      "source": [
        "Loss_fn=nn.L1Loss()\n",
        "Optimizer=torch.optim.SGD(params=model_1.parameters(),lr=0.01)"
      ],
      "metadata": {
        "id": "HYQ0tbKPw6qq"
      },
      "execution_count": null,
      "outputs": []
    },
    {
      "cell_type": "code",
      "source": [
        "torch.manual_seed(42)\n",
        "epochs=100\n",
        "for epoch in range(epochs):\n",
        "  model_1.train()\n",
        "  y_pred=model_1(X_train)    # FOrward Pass\n",
        "  Loss=Loss_fn(y_train,y_pred)  # Calcualte loss\n",
        "  Optimizer.zero_grad()         # OPTIMIZER\n",
        "  Loss.backward()               # back prop\n",
        "  Optimizer.step()              # Optimiser\n",
        "  model_1.eval()\n",
        "  with torch.inference_mode():\n",
        "    test_pred=model_1(X_test)\n",
        "    test_loss=Loss_fn(y_test,test_pred)\n",
        "    if(epoch%10==0):\n",
        "      print(f\"Epoch: {epoch} | Loss: {Loss} | Test Loss: {test_loss}\")\n"
      ],
      "metadata": {
        "colab": {
          "base_uri": "https://localhost:8080/"
        },
        "id": "a5irfmJgxSr-",
        "outputId": "810d61d9-4c4a-40ca-9db5-3e55e85566fc"
      },
      "execution_count": null,
      "outputs": [
        {
          "output_type": "stream",
          "name": "stdout",
          "text": [
            "Epoch: 0 | Loss: 0.7681550979614258 | Test Loss: 0.6496327519416809\n",
            "Epoch: 10 | Loss: 0.04477541521191597 | Test Loss: 0.11533021926879883\n",
            "Epoch: 20 | Loss: 0.043724074959754944 | Test Loss: 0.11464621126651764\n",
            "Epoch: 30 | Loss: 0.042901914566755295 | Test Loss: 0.11401612311601639\n",
            "Epoch: 40 | Loss: 0.04208661988377571 | Test Loss: 0.10806163400411606\n",
            "Epoch: 50 | Loss: 0.04129975289106369 | Test Loss: 0.10737776011228561\n",
            "Epoch: 60 | Loss: 0.04042591527104378 | Test Loss: 0.1067207008600235\n",
            "Epoch: 70 | Loss: 0.03960372880101204 | Test Loss: 0.1060905009508133\n",
            "Epoch: 80 | Loss: 0.038810450583696365 | Test Loss: 0.10010926425457001\n",
            "Epoch: 90 | Loss: 0.037949930876493454 | Test Loss: 0.0994252860546112\n"
          ]
        }
      ]
    },
    {
      "cell_type": "code",
      "source": [
        "model_1.eval()\n",
        "with torch.inference_mode():\n",
        "    y_pred=model_1(X_test)\n",
        "plot_predictions(X_train,y_train,X_test,y_test,predictions=y_pred)"
      ],
      "metadata": {
        "colab": {
          "base_uri": "https://localhost:8080/",
          "height": 460
        },
        "id": "FImK618TzaFR",
        "outputId": "e316a9c7-cdb1-48bc-f036-0615de7d9ae2"
      },
      "execution_count": null,
      "outputs": [
        {
          "output_type": "display_data",
          "data": {
            "text/plain": [
              "<Figure size 1000x700 with 1 Axes>"
            ],
            "image/png": "[encoded data removed]"
          },
          "metadata": {}
        }
      ]
    },
    {
      "cell_type": "markdown",
      "source": [
        "Saving and loading"
      ],
      "metadata": {
        "id": "W-8sAgi6Posa"
      }
    },
    {
      "cell_type": "code",
      "source": [
        "from re import M\n",
        "from pathlib import Path\n",
        "# Create dir\n",
        "Model_path=Path(\"models\")\n",
        "Model_path.mkdir(parents=True,exist_ok=True)\n",
        "\n",
        "#create model save path\n",
        "Model_name=\"linear_model.pth\"\n",
        "Model_save_path=Model_path/Model_name\n",
        "\n",
        "# Save the model state dict\n",
        "torch.save(obj=model_1.state_dict(),f=Model_save_path)\n"
      ],
      "metadata": {
        "id": "wmKnZ7gUzZ4H"
      },
      "execution_count": null,
      "outputs": []
    },
    {
      "cell_type": "code",
      "source": [
        "#Load the Pytorch\n",
        "loaded_model_1=linearmodel()\n",
        "loaded_model_1.load_state_dict(torch.load(Model_save_path))\n",
        "loaded_model_1.to(device)"
      ],
      "metadata": {
        "id": "4dTCT2k2zZqu",
        "colab": {
          "base_uri": "https://localhost:8080/"
        },
        "outputId": "b8636fee-bb13-4c85-fae3-eea8b95d912a"
      },
      "execution_count": null,
      "outputs": [
        {
          "output_type": "execute_result",
          "data": {
            "text/plain": [
              "linearmodel(\n",
              "  (linear_layer): Linear(in_features=1, out_features=1, bias=True)\n",
              ")"
            ]
          },
          "metadata": {},
          "execution_count": 267
        }
      ]
    },
    {
      "cell_type": "code",
      "source": [
        "loaded_model_1.state_dict(), model_1.state_dict()"
      ],
      "metadata": {
        "colab": {
          "base_uri": "https://localhost:8080/"
        },
        "id": "U1XoI_cnRECY",
        "outputId": "79d570b1-b3b1-45ab-9666-6edcc30e30de"
      },
      "execution_count": null,
      "outputs": [
        {
          "output_type": "execute_result",
          "data": {
            "text/plain": [
              "(OrderedDict([('linear_layer.weight', tensor([[0.5946]])),\n",
              "              ('linear_layer.bias', tensor([0.6949]))]),\n",
              " OrderedDict([('linear_layer.weight', tensor([[0.5946]])),\n",
              "              ('linear_layer.bias', tensor([0.6949]))]))"
            ]
          },
          "metadata": {},
          "execution_count": 268
        }
      ]
    },
    {
      "cell_type": "code",
      "source": [
        "loaded_model_1.eval()\n",
        "with torch.inference_mode():\n",
        "  loaded_model_1_pred=loaded_model_1(X_test)\n",
        "y_pred==loaded_model_1_pred"
      ],
      "metadata": {
        "colab": {
          "base_uri": "https://localhost:8080/"
        },
        "id": "9o1nqt-rRni-",
        "outputId": "6414bca0-35d6-4a1d-d7b5-9cb968d29c5e"
      },
      "execution_count": null,
      "outputs": [
        {
          "output_type": "execute_result",
          "data": {
            "text/plain": [
              "tensor([[True],\n",
              "        [True],\n",
              "        [True],\n",
              "        [True],\n",
              "        [True],\n",
              "        [True],\n",
              "        [True],\n",
              "        [True],\n",
              "        [True],\n",
              "        [True],\n",
              "        [True],\n",
              "        [True],\n",
              "        [True],\n",
              "        [True],\n",
              "        [True],\n",
              "        [True],\n",
              "        [True],\n",
              "        [True],\n",
              "        [True],\n",
              "        [True],\n",
              "        [True],\n",
              "        [True],\n",
              "        [True],\n",
              "        [True],\n",
              "        [True],\n",
              "        [True],\n",
              "        [True],\n",
              "        [True],\n",
              "        [True],\n",
              "        [True]])"
            ]
          },
          "metadata": {},
          "execution_count": 269
        }
      ]
    },
    {
      "cell_type": "code",
      "source": [],
      "metadata": {
        "id": "md7MjnQCRxBX"
      },
      "execution_count": null,
      "outputs": []
    }
  ]
}