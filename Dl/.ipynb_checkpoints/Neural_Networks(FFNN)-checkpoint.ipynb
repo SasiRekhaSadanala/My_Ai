{
 "cells": [
  {
   "cell_type": "code",
   "execution_count": null,
   "id": "7f8204fe-b9b6-4d2d-8cf4-b47b9f2bf6de",
   "metadata": {},
   "outputs": [],
   "source": []
  }
 ],
 "metadata": {
  "kernelspec": {
   "display_name": "Python (pytorch_env)",
   "language": "python",
   "name": "pytorch_env"
  },
  "language_info": {
   "codemirror_mode": {
    "name": "ipython",
    "version": 3
   },
   "file_extension": ".py",
   "mimetype": "text/x-python",
   "name": "python",
   "nbconvert_exporter": "python",
   "pygments_lexer": "ipython3",
   "version": "3.10.16"
  }
 },
 "nbformat": 4,
 "nbformat_minor": 5
}
